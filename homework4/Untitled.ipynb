{
 "cells": [
  {
   "cell_type": "code",
   "execution_count": 13,
   "id": "733768fa",
   "metadata": {},
   "outputs": [],
   "source": [
    "import torch\n",
    "import torch.nn.functional as F\n",
    "import sys\n",
    "import homework.utils\n",
    "import homework.models\n",
    "import matplotlib.pyplot as plt"
   ]
  },
  {
   "cell_type": "code",
   "execution_count": 3,
   "id": "8f2f6a20",
   "metadata": {},
   "outputs": [],
   "source": [
    "def point_in_box(pred, lbl):\n",
    "    px, py = pred[:, None, 0], pred[:, None, 1]\n",
    "    x0, y0, x1, y1 = lbl[None, :, 0], lbl[None, :, 1], lbl[None, :, 2], lbl[None, :, 3]\n",
    "    return (x0 <= px) & (px < x1) & (y0 <= py) & (py < y1)\n",
    "\n",
    "\n",
    "def point_close(pred, lbl, d=5):\n",
    "    px, py = pred[:, None, 0], pred[:, None, 1]\n",
    "    x0, y0, x1, y1 = lbl[None, :, 0], lbl[None, :, 1], lbl[None, :, 2], lbl[None, :, 3]\n",
    "    return ((x0 + x1 - 1) / 2 - px) ** 2 + ((y0 + y1 - 1) / 2 - py) ** 2 < d ** 2\n",
    "\n",
    "\n",
    "def box_iou(pred, lbl, t=0.5):\n",
    "    px, py, pw2, ph2 = pred[:, None, 0], pred[:, None, 1], pred[:, None, 2], pred[:, None, 3]\n",
    "    px0, px1, py0, py1 = px - pw2, px + pw2, py - ph2, py + ph2\n",
    "    x0, y0, x1, y1 = lbl[None, :, 0], lbl[None, :, 1], lbl[None, :, 2], lbl[None, :, 3]\n",
    "    iou = (abs(torch.min(px1, x1) - torch.max(px0, x0)) * abs(torch.min(py1, y1) - torch.max(py0, y0))) / \\\n",
    "          (abs(torch.max(px1, x1) - torch.min(px0, x0)) * abs(torch.max(py1, y1) - torch.min(py0, y0)))\n",
    "    return iou > t\n",
    "\n",
    "class PR:\n",
    "    def __init__(self, min_size=20, is_close=point_in_box):\n",
    "        self.min_size = min_size\n",
    "        self.total_det = 0\n",
    "        self.det = []\n",
    "        self.is_close = is_close\n",
    "\n",
    "    def add(self, d, lbl):\n",
    "        lbl = torch.as_tensor(lbl.astype(float), dtype=torch.float32).view(-1, 4)\n",
    "        d = torch.as_tensor(d, dtype=torch.float32).view(-1, 5)\n",
    "        all_pair_is_close = self.is_close(d[:, 1:], lbl)\n",
    "\n",
    "        # Get the box size and filter out small objects\n",
    "        sz = abs(lbl[:, 2]-lbl[:, 0]) * abs(lbl[:, 3]-lbl[:, 1])\n",
    "\n",
    "        # If we have detections find all true positives and count of the rest as false positives\n",
    "        if len(d):\n",
    "            detection_used = torch.zeros(len(d))\n",
    "            # For all large objects\n",
    "            for i in range(len(lbl)):\n",
    "                if sz[i] >= self.min_size:\n",
    "                    # Find a true positive\n",
    "                    s, j = (d[:, 0] - 1e10 * detection_used - 1e10 * ~all_pair_is_close[:, i]).max(dim=0)\n",
    "                    if not detection_used[j] and all_pair_is_close[j, i]:\n",
    "                        detection_used[j] = 1\n",
    "                        self.det.append((float(s), 1))\n",
    "\n",
    "            # Mark any detection with a close small ground truth as used (no not count false positives)\n",
    "            detection_used += all_pair_is_close[:, sz < self.min_size].any(dim=1)\n",
    "\n",
    "            # All other detections are false positives\n",
    "            for s in d[detection_used == 0, 0]:\n",
    "                self.det.append((float(s), 0))\n",
    "\n",
    "        # Total number of detections, used to count false negatives\n",
    "        self.total_det += int(torch.sum(sz >= self.min_size))"
   ]
  },
  {
   "cell_type": "code",
   "execution_count": 18,
   "id": "a93fb6f9",
   "metadata": {},
   "outputs": [
    {
     "name": "stdout",
     "output_type": "stream",
     "text": [
      "tensor([[[[ 0.3024,  0.3277,  0.3415,  ...,  0.3171,  0.2630,  0.3041],\n",
      "          [ 0.4483,  0.4956,  0.3580,  ...,  0.4213,  0.3147,  0.3081],\n",
      "          [ 0.2651,  0.2549,  0.2448,  ...,  0.3106,  0.2403,  0.3329],\n",
      "          ...,\n",
      "          [ 0.3603,  0.3369,  0.3720,  ...,  0.3245,  0.3774,  0.3903],\n",
      "          [ 0.2775,  0.2994,  0.2631,  ...,  0.2761,  0.2927,  0.3003],\n",
      "          [ 0.3602,  0.2548,  0.3335,  ...,  0.3204,  0.3519,  0.2813]],\n",
      "\n",
      "         [[ 0.2891,  0.3541,  0.3203,  ...,  0.2336,  0.3087,  0.2219],\n",
      "          [ 0.0313,  0.1466,  0.1820,  ...,  0.0532,  0.1770,  0.0779],\n",
      "          [ 0.2501,  0.3186,  0.2811,  ...,  0.1521,  0.2635,  0.1625],\n",
      "          ...,\n",
      "          [ 0.1860,  0.0892,  0.1405,  ...,  0.1431,  0.2034,  0.1012],\n",
      "          [ 0.2818,  0.2379,  0.2735,  ...,  0.2489,  0.2568,  0.2364],\n",
      "          [ 0.2121,  0.1728,  0.2072,  ...,  0.2149,  0.2187,  0.1914]],\n",
      "\n",
      "         [[-0.2969, -0.3344, -0.2911,  ..., -0.1928, -0.1618, -0.2137],\n",
      "          [-0.2889, -0.3523, -0.1368,  ..., -0.2269, -0.2440, -0.1347],\n",
      "          [-0.1828, -0.1296, -0.1879,  ..., -0.1245, -0.2059, -0.2147],\n",
      "          ...,\n",
      "          [-0.2297, -0.3157, -0.1452,  ..., -0.3338, -0.2423, -0.1759],\n",
      "          [-0.2706, -0.2794, -0.2356,  ..., -0.3308, -0.2632, -0.3463],\n",
      "          [-0.2212, -0.3393, -0.1285,  ..., -0.3010, -0.2382, -0.2390]]]],\n",
      "       grad_fn=<MkldnnConvolutionBackward>)\n"
     ]
    },
    {
     "ename": "SystemExit",
     "evalue": "",
     "output_type": "error",
     "traceback": [
      "An exception has occurred, use %tb to see the full traceback.\n",
      "\u001b[1;31mSystemExit\u001b[0m\n"
     ]
    }
   ],
   "source": [
    "model = homework.models.Detector()\n",
    "for img, *gts in homework.utils.DetectionSuperTuxDataset('dense_data/valid', min_size=0):\n",
    "    heatmap = model(img)\n",
    "    print(heatmap)\n",
    "    sys.exit()\n",
    "    "
   ]
  },
  {
   "cell_type": "code",
   "execution_count": null,
   "id": "99737ddd",
   "metadata": {},
   "outputs": [],
   "source": []
  }
 ],
 "metadata": {
  "kernelspec": {
   "display_name": "Python 3",
   "language": "python",
   "name": "python3"
  },
  "language_info": {
   "codemirror_mode": {
    "name": "ipython",
    "version": 3
   },
   "file_extension": ".py",
   "mimetype": "text/x-python",
   "name": "python",
   "nbconvert_exporter": "python",
   "pygments_lexer": "ipython3",
   "version": "3.8.8"
  }
 },
 "nbformat": 4,
 "nbformat_minor": 5
}
